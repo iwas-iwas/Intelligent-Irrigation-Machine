{
 "cells": [
  {
   "cell_type": "markdown",
   "metadata": {},
   "source": [
    "## Predictive Irrigation: Intelligent Irrigation Machine Project - Iwas Iwas\n",
    "\n",
    "**Motivation:**\n",
    "\n",
    "Today, climate change is a big problem for a farm. The crops in some regions are threatened, if not destroyed due to heat and drought. If it does not rain enough, watering the fields is often a necessity. The motivation behind this project is to use deep learning to build an intelligent irrigation machine to irrigate the fields of a farm in a more precise and targeted manner by predicting the probability of a parcel having enough water or not. By doing this, we can predictively irrigate the parcels/fields and tackle the heat and drought problem.\n",
    "\n",
    "<img src=\"Data/irrigation.jpg\"/>\n",
    "\n",
    "A farm has an array of 20 sensors distributed over 3 cropped fields/parcels (e.g. carrots, tomatoes). The sensors measure data like the humidity of the soil and radiation of the sun. The goal is to predict the need for water for the parcels.\n",
    "\n",
    "This is a multi-label classification problem. In a multi-label classification problem, each observation of the 20 sensors can be labeled with zero or more classes. So classes are not mutually exclusive. In this project, I will build a Neural Network Model with a Sequential API as architecture, using Keras.\n",
    "\n",
    "Let's start by importing the data that consists of the sensor observations and whether a parcel is irrigated in a given sensor observation. Then I'll define the predictors and the target values and perform a train-test-split."
   ]
  },
  {
   "cell_type": "code",
   "execution_count": 112,
   "metadata": {},
   "outputs": [
    {
     "data": {
      "text/html": [
       "<div>\n",
       "<style scoped>\n",
       "    .dataframe tbody tr th:only-of-type {\n",
       "        vertical-align: middle;\n",
       "    }\n",
       "\n",
       "    .dataframe tbody tr th {\n",
       "        vertical-align: top;\n",
       "    }\n",
       "\n",
       "    .dataframe thead th {\n",
       "        text-align: right;\n",
       "    }\n",
       "</style>\n",
       "<table border=\"1\" class=\"dataframe\">\n",
       "  <thead>\n",
       "    <tr style=\"text-align: right;\">\n",
       "      <th></th>\n",
       "      <th>sensor_0</th>\n",
       "      <th>sensor_1</th>\n",
       "      <th>sensor_2</th>\n",
       "      <th>sensor_3</th>\n",
       "      <th>sensor_4</th>\n",
       "      <th>sensor_5</th>\n",
       "      <th>sensor_6</th>\n",
       "      <th>sensor_7</th>\n",
       "      <th>sensor_8</th>\n",
       "      <th>sensor_9</th>\n",
       "      <th>...</th>\n",
       "      <th>sensor_13</th>\n",
       "      <th>sensor_14</th>\n",
       "      <th>sensor_15</th>\n",
       "      <th>sensor_16</th>\n",
       "      <th>sensor_17</th>\n",
       "      <th>sensor_18</th>\n",
       "      <th>sensor_19</th>\n",
       "      <th>parcel_0</th>\n",
       "      <th>parcel_1</th>\n",
       "      <th>parcel_2</th>\n",
       "    </tr>\n",
       "  </thead>\n",
       "  <tbody>\n",
       "    <tr>\n",
       "      <th>0</th>\n",
       "      <td>1.0</td>\n",
       "      <td>2.0</td>\n",
       "      <td>1.0</td>\n",
       "      <td>7.0</td>\n",
       "      <td>0.0</td>\n",
       "      <td>1.0</td>\n",
       "      <td>1.0</td>\n",
       "      <td>4.0</td>\n",
       "      <td>0.0</td>\n",
       "      <td>3.0</td>\n",
       "      <td>...</td>\n",
       "      <td>8.0</td>\n",
       "      <td>1.0</td>\n",
       "      <td>0.0</td>\n",
       "      <td>2.0</td>\n",
       "      <td>1.0</td>\n",
       "      <td>9.0</td>\n",
       "      <td>2.0</td>\n",
       "      <td>0</td>\n",
       "      <td>1</td>\n",
       "      <td>0</td>\n",
       "    </tr>\n",
       "    <tr>\n",
       "      <th>1</th>\n",
       "      <td>5.0</td>\n",
       "      <td>1.0</td>\n",
       "      <td>3.0</td>\n",
       "      <td>5.0</td>\n",
       "      <td>2.0</td>\n",
       "      <td>2.0</td>\n",
       "      <td>1.0</td>\n",
       "      <td>2.0</td>\n",
       "      <td>3.0</td>\n",
       "      <td>1.0</td>\n",
       "      <td>...</td>\n",
       "      <td>4.0</td>\n",
       "      <td>5.0</td>\n",
       "      <td>5.0</td>\n",
       "      <td>2.0</td>\n",
       "      <td>2.0</td>\n",
       "      <td>2.0</td>\n",
       "      <td>7.0</td>\n",
       "      <td>0</td>\n",
       "      <td>0</td>\n",
       "      <td>0</td>\n",
       "    </tr>\n",
       "    <tr>\n",
       "      <th>2</th>\n",
       "      <td>3.0</td>\n",
       "      <td>1.0</td>\n",
       "      <td>4.0</td>\n",
       "      <td>3.0</td>\n",
       "      <td>4.0</td>\n",
       "      <td>0.0</td>\n",
       "      <td>1.0</td>\n",
       "      <td>6.0</td>\n",
       "      <td>0.0</td>\n",
       "      <td>2.0</td>\n",
       "      <td>...</td>\n",
       "      <td>3.0</td>\n",
       "      <td>3.0</td>\n",
       "      <td>1.0</td>\n",
       "      <td>0.0</td>\n",
       "      <td>3.0</td>\n",
       "      <td>1.0</td>\n",
       "      <td>0.0</td>\n",
       "      <td>1</td>\n",
       "      <td>1</td>\n",
       "      <td>0</td>\n",
       "    </tr>\n",
       "    <tr>\n",
       "      <th>3</th>\n",
       "      <td>2.0</td>\n",
       "      <td>2.0</td>\n",
       "      <td>4.0</td>\n",
       "      <td>3.0</td>\n",
       "      <td>5.0</td>\n",
       "      <td>0.0</td>\n",
       "      <td>3.0</td>\n",
       "      <td>2.0</td>\n",
       "      <td>2.0</td>\n",
       "      <td>5.0</td>\n",
       "      <td>...</td>\n",
       "      <td>4.0</td>\n",
       "      <td>1.0</td>\n",
       "      <td>1.0</td>\n",
       "      <td>4.0</td>\n",
       "      <td>1.0</td>\n",
       "      <td>3.0</td>\n",
       "      <td>2.0</td>\n",
       "      <td>0</td>\n",
       "      <td>0</td>\n",
       "      <td>0</td>\n",
       "    </tr>\n",
       "    <tr>\n",
       "      <th>4</th>\n",
       "      <td>4.0</td>\n",
       "      <td>3.0</td>\n",
       "      <td>3.0</td>\n",
       "      <td>2.0</td>\n",
       "      <td>5.0</td>\n",
       "      <td>1.0</td>\n",
       "      <td>3.0</td>\n",
       "      <td>1.0</td>\n",
       "      <td>1.0</td>\n",
       "      <td>2.0</td>\n",
       "      <td>...</td>\n",
       "      <td>1.0</td>\n",
       "      <td>3.0</td>\n",
       "      <td>2.0</td>\n",
       "      <td>2.0</td>\n",
       "      <td>1.0</td>\n",
       "      <td>1.0</td>\n",
       "      <td>0.0</td>\n",
       "      <td>1</td>\n",
       "      <td>1</td>\n",
       "      <td>0</td>\n",
       "    </tr>\n",
       "  </tbody>\n",
       "</table>\n",
       "<p>5 rows × 23 columns</p>\n",
       "</div>"
      ],
      "text/plain": [
       "   sensor_0  sensor_1  sensor_2  sensor_3  sensor_4  sensor_5  sensor_6  \\\n",
       "0       1.0       2.0       1.0       7.0       0.0       1.0       1.0   \n",
       "1       5.0       1.0       3.0       5.0       2.0       2.0       1.0   \n",
       "2       3.0       1.0       4.0       3.0       4.0       0.0       1.0   \n",
       "3       2.0       2.0       4.0       3.0       5.0       0.0       3.0   \n",
       "4       4.0       3.0       3.0       2.0       5.0       1.0       3.0   \n",
       "\n",
       "   sensor_7  sensor_8  sensor_9    ...     sensor_13  sensor_14  sensor_15  \\\n",
       "0       4.0       0.0       3.0    ...           8.0        1.0        0.0   \n",
       "1       2.0       3.0       1.0    ...           4.0        5.0        5.0   \n",
       "2       6.0       0.0       2.0    ...           3.0        3.0        1.0   \n",
       "3       2.0       2.0       5.0    ...           4.0        1.0        1.0   \n",
       "4       1.0       1.0       2.0    ...           1.0        3.0        2.0   \n",
       "\n",
       "   sensor_16  sensor_17  sensor_18  sensor_19  parcel_0  parcel_1  parcel_2  \n",
       "0        2.0        1.0        9.0        2.0         0         1         0  \n",
       "1        2.0        2.0        2.0        7.0         0         0         0  \n",
       "2        0.0        3.0        1.0        0.0         1         1         0  \n",
       "3        4.0        1.0        3.0        2.0         0         0         0  \n",
       "4        2.0        1.0        1.0        0.0         1         1         0  \n",
       "\n",
       "[5 rows x 23 columns]"
      ]
     },
     "execution_count": 112,
     "metadata": {},
     "output_type": "execute_result"
    }
   ],
   "source": [
    "import pandas as pd\n",
    "import numpy as np\n",
    "from sklearn.model_selection import train_test_split\n",
    "\n",
    "df = pd.read_csv('Data/parcel.csv', delimiter=';')\n",
    "df = df.drop('Unnamed: 0', axis=1)\n",
    "\n",
    "X = df.drop(['parcel_0', 'parcel_1', 'parcel_2'], axis=1)\n",
    "y = df[['parcel_0', 'parcel_1', 'parcel_2']]\n",
    "\n",
    "df.head()"
   ]
  },
  {
   "cell_type": "code",
   "execution_count": 2,
   "metadata": {},
   "outputs": [
    {
     "name": "stdout",
     "output_type": "stream",
     "text": [
      "<class 'pandas.core.frame.DataFrame'>\n",
      "RangeIndex: 2000 entries, 0 to 1999\n",
      "Data columns (total 23 columns):\n",
      "sensor_0     2000 non-null float64\n",
      "sensor_1     2000 non-null float64\n",
      "sensor_2     2000 non-null float64\n",
      "sensor_3     2000 non-null float64\n",
      "sensor_4     2000 non-null float64\n",
      "sensor_5     2000 non-null float64\n",
      "sensor_6     2000 non-null float64\n",
      "sensor_7     2000 non-null float64\n",
      "sensor_8     2000 non-null float64\n",
      "sensor_9     2000 non-null float64\n",
      "sensor_10    2000 non-null float64\n",
      "sensor_11    2000 non-null float64\n",
      "sensor_12    2000 non-null float64\n",
      "sensor_13    2000 non-null float64\n",
      "sensor_14    2000 non-null float64\n",
      "sensor_15    2000 non-null float64\n",
      "sensor_16    2000 non-null float64\n",
      "sensor_17    2000 non-null float64\n",
      "sensor_18    2000 non-null float64\n",
      "sensor_19    2000 non-null float64\n",
      "parcel_0     2000 non-null int64\n",
      "parcel_1     2000 non-null int64\n",
      "parcel_2     2000 non-null int64\n",
      "dtypes: float64(20), int64(3)\n",
      "memory usage: 359.5 KB\n"
     ]
    }
   ],
   "source": [
    "df.info()"
   ]
  },
  {
   "cell_type": "code",
   "execution_count": 3,
   "metadata": {},
   "outputs": [
    {
     "data": {
      "text/html": [
       "<div>\n",
       "<style scoped>\n",
       "    .dataframe tbody tr th:only-of-type {\n",
       "        vertical-align: middle;\n",
       "    }\n",
       "\n",
       "    .dataframe tbody tr th {\n",
       "        vertical-align: top;\n",
       "    }\n",
       "\n",
       "    .dataframe thead th {\n",
       "        text-align: right;\n",
       "    }\n",
       "</style>\n",
       "<table border=\"1\" class=\"dataframe\">\n",
       "  <thead>\n",
       "    <tr style=\"text-align: right;\">\n",
       "      <th></th>\n",
       "      <th>sensor_0</th>\n",
       "      <th>sensor_1</th>\n",
       "      <th>sensor_2</th>\n",
       "      <th>sensor_3</th>\n",
       "      <th>sensor_4</th>\n",
       "      <th>sensor_5</th>\n",
       "      <th>sensor_6</th>\n",
       "      <th>sensor_7</th>\n",
       "      <th>sensor_8</th>\n",
       "      <th>sensor_9</th>\n",
       "      <th>...</th>\n",
       "      <th>sensor_13</th>\n",
       "      <th>sensor_14</th>\n",
       "      <th>sensor_15</th>\n",
       "      <th>sensor_16</th>\n",
       "      <th>sensor_17</th>\n",
       "      <th>sensor_18</th>\n",
       "      <th>sensor_19</th>\n",
       "      <th>parcel_0</th>\n",
       "      <th>parcel_1</th>\n",
       "      <th>parcel_2</th>\n",
       "    </tr>\n",
       "  </thead>\n",
       "  <tbody>\n",
       "    <tr>\n",
       "      <th>count</th>\n",
       "      <td>2000.000000</td>\n",
       "      <td>2000.000000</td>\n",
       "      <td>2000.000000</td>\n",
       "      <td>2000.000000</td>\n",
       "      <td>2000.000000</td>\n",
       "      <td>2000.000000</td>\n",
       "      <td>2000.000000</td>\n",
       "      <td>2000.000000</td>\n",
       "      <td>2000.000000</td>\n",
       "      <td>2000.000000</td>\n",
       "      <td>...</td>\n",
       "      <td>2000.000000</td>\n",
       "      <td>2000.000000</td>\n",
       "      <td>2000.000000</td>\n",
       "      <td>2000.000000</td>\n",
       "      <td>2000.000000</td>\n",
       "      <td>2000.00000</td>\n",
       "      <td>2000.000000</td>\n",
       "      <td>2000.00000</td>\n",
       "      <td>2000.000000</td>\n",
       "      <td>2000.000000</td>\n",
       "    </tr>\n",
       "    <tr>\n",
       "      <th>mean</th>\n",
       "      <td>1.437000</td>\n",
       "      <td>1.659000</td>\n",
       "      <td>2.654500</td>\n",
       "      <td>2.674500</td>\n",
       "      <td>2.887500</td>\n",
       "      <td>1.411000</td>\n",
       "      <td>3.315500</td>\n",
       "      <td>4.201500</td>\n",
       "      <td>1.214000</td>\n",
       "      <td>1.901000</td>\n",
       "      <td>...</td>\n",
       "      <td>2.731500</td>\n",
       "      <td>3.416000</td>\n",
       "      <td>1.206500</td>\n",
       "      <td>2.325000</td>\n",
       "      <td>1.729500</td>\n",
       "      <td>2.27450</td>\n",
       "      <td>1.813500</td>\n",
       "      <td>0.63550</td>\n",
       "      <td>0.730500</td>\n",
       "      <td>0.212000</td>\n",
       "    </tr>\n",
       "    <tr>\n",
       "      <th>std</th>\n",
       "      <td>1.321327</td>\n",
       "      <td>1.338512</td>\n",
       "      <td>1.699286</td>\n",
       "      <td>1.855875</td>\n",
       "      <td>1.816451</td>\n",
       "      <td>1.339394</td>\n",
       "      <td>2.206444</td>\n",
       "      <td>2.280241</td>\n",
       "      <td>1.386782</td>\n",
       "      <td>1.518668</td>\n",
       "      <td>...</td>\n",
       "      <td>1.774537</td>\n",
       "      <td>1.960578</td>\n",
       "      <td>1.258034</td>\n",
       "      <td>1.715181</td>\n",
       "      <td>1.561265</td>\n",
       "      <td>1.67169</td>\n",
       "      <td>1.469285</td>\n",
       "      <td>0.48141</td>\n",
       "      <td>0.443811</td>\n",
       "      <td>0.408827</td>\n",
       "    </tr>\n",
       "    <tr>\n",
       "      <th>min</th>\n",
       "      <td>0.000000</td>\n",
       "      <td>0.000000</td>\n",
       "      <td>0.000000</td>\n",
       "      <td>0.000000</td>\n",
       "      <td>0.000000</td>\n",
       "      <td>0.000000</td>\n",
       "      <td>0.000000</td>\n",
       "      <td>0.000000</td>\n",
       "      <td>0.000000</td>\n",
       "      <td>0.000000</td>\n",
       "      <td>...</td>\n",
       "      <td>0.000000</td>\n",
       "      <td>0.000000</td>\n",
       "      <td>0.000000</td>\n",
       "      <td>0.000000</td>\n",
       "      <td>0.000000</td>\n",
       "      <td>0.00000</td>\n",
       "      <td>0.000000</td>\n",
       "      <td>0.00000</td>\n",
       "      <td>0.000000</td>\n",
       "      <td>0.000000</td>\n",
       "    </tr>\n",
       "    <tr>\n",
       "      <th>25%</th>\n",
       "      <td>0.000000</td>\n",
       "      <td>1.000000</td>\n",
       "      <td>1.000000</td>\n",
       "      <td>1.000000</td>\n",
       "      <td>2.000000</td>\n",
       "      <td>0.000000</td>\n",
       "      <td>2.000000</td>\n",
       "      <td>3.000000</td>\n",
       "      <td>0.000000</td>\n",
       "      <td>1.000000</td>\n",
       "      <td>...</td>\n",
       "      <td>1.000000</td>\n",
       "      <td>2.000000</td>\n",
       "      <td>0.000000</td>\n",
       "      <td>1.000000</td>\n",
       "      <td>0.000000</td>\n",
       "      <td>1.00000</td>\n",
       "      <td>1.000000</td>\n",
       "      <td>0.00000</td>\n",
       "      <td>0.000000</td>\n",
       "      <td>0.000000</td>\n",
       "    </tr>\n",
       "  </tbody>\n",
       "</table>\n",
       "<p>5 rows × 23 columns</p>\n",
       "</div>"
      ],
      "text/plain": [
       "          sensor_0     sensor_1     sensor_2     sensor_3     sensor_4  \\\n",
       "count  2000.000000  2000.000000  2000.000000  2000.000000  2000.000000   \n",
       "mean      1.437000     1.659000     2.654500     2.674500     2.887500   \n",
       "std       1.321327     1.338512     1.699286     1.855875     1.816451   \n",
       "min       0.000000     0.000000     0.000000     0.000000     0.000000   \n",
       "25%       0.000000     1.000000     1.000000     1.000000     2.000000   \n",
       "\n",
       "          sensor_5     sensor_6     sensor_7     sensor_8     sensor_9  \\\n",
       "count  2000.000000  2000.000000  2000.000000  2000.000000  2000.000000   \n",
       "mean      1.411000     3.315500     4.201500     1.214000     1.901000   \n",
       "std       1.339394     2.206444     2.280241     1.386782     1.518668   \n",
       "min       0.000000     0.000000     0.000000     0.000000     0.000000   \n",
       "25%       0.000000     2.000000     3.000000     0.000000     1.000000   \n",
       "\n",
       "          ...         sensor_13    sensor_14    sensor_15    sensor_16  \\\n",
       "count     ...       2000.000000  2000.000000  2000.000000  2000.000000   \n",
       "mean      ...          2.731500     3.416000     1.206500     2.325000   \n",
       "std       ...          1.774537     1.960578     1.258034     1.715181   \n",
       "min       ...          0.000000     0.000000     0.000000     0.000000   \n",
       "25%       ...          1.000000     2.000000     0.000000     1.000000   \n",
       "\n",
       "         sensor_17   sensor_18    sensor_19    parcel_0     parcel_1  \\\n",
       "count  2000.000000  2000.00000  2000.000000  2000.00000  2000.000000   \n",
       "mean      1.729500     2.27450     1.813500     0.63550     0.730500   \n",
       "std       1.561265     1.67169     1.469285     0.48141     0.443811   \n",
       "min       0.000000     0.00000     0.000000     0.00000     0.000000   \n",
       "25%       0.000000     1.00000     1.000000     0.00000     0.000000   \n",
       "\n",
       "          parcel_2  \n",
       "count  2000.000000  \n",
       "mean      0.212000  \n",
       "std       0.408827  \n",
       "min       0.000000  \n",
       "25%       0.000000  \n",
       "\n",
       "[5 rows x 23 columns]"
      ]
     },
     "execution_count": 3,
     "metadata": {},
     "output_type": "execute_result"
    }
   ],
   "source": [
    "df.describe().head()"
   ]
  },
  {
   "cell_type": "code",
   "execution_count": 6,
   "metadata": {},
   "outputs": [],
   "source": [
    "X_train, X_test, y_train, y_test = train_test_split(X, y, random_state=42, test_size=0.30)\n",
    "n_predictors = X.shape[1] #20 sensors, so that input observations of (*, 20) are allowed\n",
    "n_targets = y.shape[1] #3 parcles that will be the neurons in the output layer"
   ]
  },
  {
   "cell_type": "markdown",
   "metadata": {},
   "source": [
    "## A Beginning: Building first simple model\n",
    "\n",
    "The target data (parcels) is already one-hot-encoded so that each parcel will have its output neuron in the model. Also, there is not much noise in the data and all sensor data are on the same scale. Due to that, I decided to not normalize the input data. Also, all the features already have the correct data-types, which makes further feature engineering unnecessary.\n",
    "\n",
    "Because this is a multi-label classification problem I will use *Sigmoid* as the activation function for the output layer, so that each output-neuron gets a value between 0 and 1 and thus can be rounded to 0 or 1 depending on if the value is above or below the threshold. As each output-neuron can be on or off, the correct loss to choose to optimize is *binary crossentropy*.\n",
    "\n",
    "Given that our input-data is not huge, I will start with a simple model architecture.\n",
    "\n",
    "Let's now build a simple model. Later on, I will experiment with different architectures and hyperparameters to determine the best model!"
   ]
  },
  {
   "cell_type": "code",
   "execution_count": 11,
   "metadata": {},
   "outputs": [
    {
     "name": "stdout",
     "output_type": "stream",
     "text": [
      "_________________________________________________________________\n",
      "Layer (type)                 Output Shape              Param #   \n",
      "=================================================================\n",
      "dense_5_input (InputLayer)   (None, 20)                0         \n",
      "_________________________________________________________________\n",
      "dense_5 (Dense)              (None, 64)                1344      \n",
      "_________________________________________________________________\n",
      "dense_6 (Dense)              (None, 3)                 195       \n",
      "=================================================================\n",
      "Total params: 1,539\n",
      "Trainable params: 1,539\n",
      "Non-trainable params: 0\n",
      "_________________________________________________________________\n"
     ]
    }
   ],
   "source": [
    "from keras.models import Sequential\n",
    "from keras.layers import Dense\n",
    "\n",
    "\n",
    "model = Sequential()\n",
    "#input layer and first hidden layer\n",
    "model.add(Dense(64, activation='relu', input_shape=(n_predictors,))) \n",
    "model.add(Dense(n_targets, activation='sigmoid'))\n",
    "model.compile(optimizer='adam',\n",
    "             loss='binary_crossentropy',\n",
    "             metrics=['accuracy'])\n",
    "\n",
    "model.summary()"
   ]
  },
  {
   "cell_type": "markdown",
   "metadata": {},
   "source": [
    "**Model Summary Explained**\n",
    "\n",
    "<img src=\"Data/irrig_model.png\"/>"
   ]
  },
  {
   "cell_type": "code",
   "execution_count": 6,
   "metadata": {},
   "outputs": [],
   "source": [
    "#Code for image above\n",
    "from keras.utils import plot_model\n",
    "plot_model(model, show_shapes=True, to_file='irrig_model.png')"
   ]
  },
  {
   "cell_type": "markdown",
   "metadata": {},
   "source": [
    "1.539 weights will be trained when fitting the model. The first hidden layer consists of 64 Neurons, which means that each of the 20 Neurons in the Input layer will have a weight connection to each neuron in the first hidden layer. Additionaly, each neuron, except in the input-layer has a own bias-weight connection. The output of the first hidden layer is the input for the output layer.\n",
    "\n",
    "Hidden Layer: 20 Input-Neurons * 64 Neurons in Layer + 64 bias-weight-connections = 1344 trainable weights\n",
    "\n",
    "Output Layer: 64 Input Neurons * 3 Neurons in Layer + 3 bias-weight-connections = 195 trainable weights\n",
    "\n",
    "Total trainable weights/parameters = 1344 HL1 + 195 Output Layer = 1.539\n",
    "\n",
    "I will create a function that creates our model to play around with it in the optimization process more easily."
   ]
  },
  {
   "cell_type": "code",
   "execution_count": 3,
   "metadata": {},
   "outputs": [],
   "source": [
    "def get_model(n_pred, n_targ):\n",
    "\n",
    "    model = Sequential()\n",
    "    #input layer and first hidden layer\n",
    "    model.add(Dense(64, activation='relu', input_shape=(n_pred,)))\n",
    "    #output layer\n",
    "    model.add(Dense(n_targ, activation='sigmoid'))\n",
    "    model.compile(optimizer='adam',\n",
    "                 loss='binary_crossentropy',\n",
    "                 metrics=['accuracy'])\n",
    "    \n",
    "    return model"
   ]
  },
  {
   "cell_type": "markdown",
   "metadata": {},
   "source": [
    "**Fit and Evaluate first model**\n",
    "\n",
    "Let's plot a learning curve that shows how the Accuracy of our training and validation date changes with different Epochs to check how the model performs and if we are overfitting."
   ]
  },
  {
   "cell_type": "code",
   "execution_count": 54,
   "metadata": {},
   "outputs": [],
   "source": [
    "hist = model.fit(X_train, y_train, epochs=50, validation_data=(X_test, y_test), verbose=False)"
   ]
  },
  {
   "cell_type": "code",
   "execution_count": 55,
   "metadata": {},
   "outputs": [
    {
     "data": {
      "image/png": "[encoded data removed]",
      "text/plain": [
       "<Figure size 432x288 with 1 Axes>"
      ]
     },
     "metadata": {},
     "output_type": "display_data"
    }
   ],
   "source": [
    "import matplotlib.pyplot as plt\n",
    "%matplotlib inline\n",
    "import seaborn as sns\n",
    "sns.set()\n",
    "\n",
    "acc = hist.history['acc']\n",
    "val_acc = hist.history['val_acc']\n",
    "\n",
    "def plot_accuracy(acc, val_acc):\n",
    "    plt.figure()\n",
    "    plt.plot(acc)\n",
    "    plt.plot(val_acc)\n",
    "    plt.title('Accuracy Learning Curve')\n",
    "    plt.xlabel('Epoch')\n",
    "    plt.ylabel('Accuracy')\n",
    "    plt.legend(['Train', 'Test'])\n",
    "    plt.show()\n",
    "plot_accuracy(acc, val_acc)"
   ]
  },
  {
   "cell_type": "markdown",
   "metadata": {},
   "source": [
    "The validation Accuracy is between 0.85 and 0.90 after the model updated the weights for the first few Epochs, pretty good! Also, it looks like the validation curve has reached it's learning limit with the given input data. \n",
    "\n",
    "As you can see, after around Epoch 18 the validation accuracy stops increasing while the train accuracy still goes up a little. This could be a indicator for overfitting. To ensure this assumption and tackle overfitting, let's add a EarlyStopping callback and increase the number of Epochs to have a more stable result.\n",
    "\n",
    "EarlyStopping stops the training (Forward/Backpropagation cycle) when the monitored quantity (Accuracy in this case) stopped improving for 5 Epochs. "
   ]
  },
  {
   "cell_type": "code",
   "execution_count": 8,
   "metadata": {},
   "outputs": [
    {
     "name": "stdout",
     "output_type": "stream",
     "text": [
      "Train on 1400 samples, validate on 600 samples\n",
      "Epoch 1/200\n",
      "1400/1400 [==============================] - 1s 571us/step - loss: 0.5910 - acc: 0.7250 - val_loss: 0.4620 - val_acc: 0.7867\n",
      "Epoch 2/200\n",
      "1400/1400 [==============================] - 0s 54us/step - loss: 0.4180 - acc: 0.8071 - val_loss: 0.3791 - val_acc: 0.8406\n",
      "Epoch 3/200\n",
      "1400/1400 [==============================] - 0s 54us/step - loss: 0.3573 - acc: 0.8410 - val_loss: 0.3425 - val_acc: 0.8528\n",
      "Epoch 4/200\n",
      "1400/1400 [==============================] - 0s 53us/step - loss: 0.3283 - acc: 0.8569 - val_loss: 0.3236 - val_acc: 0.8639\n",
      "Epoch 5/200\n",
      "1400/1400 [==============================] - 0s 54us/step - loss: 0.3133 - acc: 0.8636 - val_loss: 0.3132 - val_acc: 0.8644\n",
      "Epoch 6/200\n",
      "1400/1400 [==============================] - 0s 54us/step - loss: 0.3005 - acc: 0.8671 - val_loss: 0.3006 - val_acc: 0.8706\n",
      "Epoch 7/200\n",
      "1400/1400 [==============================] - 0s 53us/step - loss: 0.2910 - acc: 0.8752 - val_loss: 0.2923 - val_acc: 0.8711\n",
      "Epoch 8/200\n",
      "1400/1400 [==============================] - 0s 55us/step - loss: 0.2797 - acc: 0.8802 - val_loss: 0.2879 - val_acc: 0.8744\n",
      "Epoch 9/200\n",
      "1400/1400 [==============================] - 0s 54us/step - loss: 0.2717 - acc: 0.8836 - val_loss: 0.2787 - val_acc: 0.8828\n",
      "Epoch 10/200\n",
      "1400/1400 [==============================] - 0s 56us/step - loss: 0.2620 - acc: 0.8881 - val_loss: 0.2672 - val_acc: 0.8872\n",
      "Epoch 11/200\n",
      "1400/1400 [==============================] - 0s 53us/step - loss: 0.2511 - acc: 0.8926 - val_loss: 0.2616 - val_acc: 0.8928\n",
      "Epoch 12/200\n",
      "1400/1400 [==============================] - 0s 54us/step - loss: 0.2440 - acc: 0.8990 - val_loss: 0.2560 - val_acc: 0.8944\n",
      "Epoch 13/200\n",
      "1400/1400 [==============================] - 0s 54us/step - loss: 0.2365 - acc: 0.9026 - val_loss: 0.2498 - val_acc: 0.8994\n",
      "Epoch 14/200\n",
      "1400/1400 [==============================] - 0s 53us/step - loss: 0.2294 - acc: 0.9052 - val_loss: 0.2461 - val_acc: 0.9006\n",
      "Epoch 15/200\n",
      "1400/1400 [==============================] - 0s 53us/step - loss: 0.2227 - acc: 0.9076 - val_loss: 0.2417 - val_acc: 0.9039\n",
      "Epoch 16/200\n",
      "1400/1400 [==============================] - 0s 55us/step - loss: 0.2170 - acc: 0.9093 - val_loss: 0.2445 - val_acc: 0.9017\n",
      "Epoch 17/200\n",
      "1400/1400 [==============================] - 0s 59us/step - loss: 0.2165 - acc: 0.9105 - val_loss: 0.2375 - val_acc: 0.9056\n",
      "Epoch 18/200\n",
      "1400/1400 [==============================] - 0s 56us/step - loss: 0.2087 - acc: 0.9129 - val_loss: 0.2381 - val_acc: 0.9033\n",
      "Epoch 19/200\n",
      "1400/1400 [==============================] - 0s 58us/step - loss: 0.2074 - acc: 0.9150 - val_loss: 0.2370 - val_acc: 0.9067\n",
      "Epoch 20/200\n",
      "1400/1400 [==============================] - 0s 56us/step - loss: 0.2040 - acc: 0.9150 - val_loss: 0.2345 - val_acc: 0.9017\n",
      "Epoch 21/200\n",
      "1400/1400 [==============================] - 0s 56us/step - loss: 0.2028 - acc: 0.9179 - val_loss: 0.2344 - val_acc: 0.9061\n",
      "Epoch 22/200\n",
      "1400/1400 [==============================] - 0s 54us/step - loss: 0.1976 - acc: 0.9183 - val_loss: 0.2370 - val_acc: 0.8978\n"
     ]
    }
   ],
   "source": [
    "from keras.callbacks import EarlyStopping\n",
    "from keras.models import Sequential\n",
    "from keras.layers import Dense\n",
    "\n",
    "model_callback = get_model(n_predictors, n_targets)\n",
    "\n",
    "early_stopping = EarlyStopping(monitor='val_acc', patience=3)\n",
    "\n",
    "hist = model_callback.fit(X_train, y_train, epochs=200, validation_data=(X_test, y_test),\n",
    "                callbacks=[early_stopping])"
   ]
  },
  {
   "cell_type": "code",
   "execution_count": 9,
   "metadata": {},
   "outputs": [
    {
     "name": "stdout",
     "output_type": "stream",
     "text": [
      "600/600 [==============================] - 0s 25us/step\n",
      "Accuracy:  0.8977777870496114\n"
     ]
    }
   ],
   "source": [
    "accuracy = model_callback.evaluate(X_test, y_test)[1]\n",
    "print('Accuracy: ', accuracy)"
   ]
  },
  {
   "cell_type": "markdown",
   "metadata": {},
   "source": [
    "The assumption that we don't need any more Epochs seems to be correct, as the model did not improve after reaching around 0.9067 Accuracy in the 19th Epoch.\n",
    "\n",
    "## Optimization - Can we increase the performance?\n",
    "\n",
    "**Do we need more data?**\n",
    "\n",
    "We already know that given our current architecture and data, more Epochs won't help to increase the score. What about more data?\n",
    "\n",
    "Let's plot a learning curve that shows different training sample sizes as a function of Accuracy. By storing the initial weights of the model and setting them before each training iteration with the new split, I can ensure that each iteration trains based on the same weights."
   ]
  },
  {
   "cell_type": "code",
   "execution_count": 13,
   "metadata": {},
   "outputs": [],
   "source": [
    "#Store initial model weights\n",
    "initial_weights = model.get_weights()\n",
    "\n",
    "#Lists that store accuracies\n",
    "train_accs = []\n",
    "test_accs = []\n",
    "\n",
    "split_sizes = [0.3,0.25,0.2,0.15,0.1]\n",
    "training_samples = [int(len(X) - (len(X) * split)) for split in split_sizes]\n",
    "\n",
    "for split_size in split_sizes:\n",
    "    X_train, X_test, y_train, y_test = train_test_split(X, y, random_state=42, test_size=split_size)\n",
    "    #set model initial weights\n",
    "    model.set_weights(initial_weights)\n",
    "    #fit model on new split\n",
    "    model.fit(X_train, y_train, epochs=200, verbose=0,callbacks=[early_stopping])\n",
    "    train_acc = model.evaluate(X_train, y_train, verbose=0)[1]\n",
    "    train_accs.append(train_acc)\n",
    "    test_acc = model.evaluate(X_test, y_test, verbose=0)[1]\n",
    "    test_accs.append(test_acc)"
   ]
  },
  {
   "cell_type": "code",
   "execution_count": 14,
   "metadata": {},
   "outputs": [
    {
     "data": {
      "image/png": "[encoded data removed]",
      "text/plain": [
       "<Figure size 432x288 with 1 Axes>"
      ]
     },
     "metadata": {
      "needs_background": "light"
     },
     "output_type": "display_data"
    }
   ],
   "source": [
    "import matplotlib.pyplot as plt\n",
    "%matplotlib inline\n",
    "\n",
    "plt.plot(training_samples, train_accs, '-o', c='blue')\n",
    "plt.plot(training_samples, test_accs, '-o', c='red')\n",
    "plt.xlabel('Training Samples')\n",
    "plt.ylabel('Accuracy')\n",
    "plt.legend(['Train', 'Test'])\n",
    "plt.title('Accuracy vs Number of training samples')\n",
    "plt.show()"
   ]
  },
  {
   "cell_type": "markdown",
   "metadata": {},
   "source": [
    "Interesting results. The training the data with more than 1500 observations from the sensors shows a downwards trend, which suggests that more data won't increase the performance of the model. One step could be to collect more data or create bootstrap samples and repeat the performance evaluation on those.\n",
    "\n",
    "For now, I am going to stick with the 1.400 samples (70% training, 30% test). "
   ]
  },
  {
   "cell_type": "code",
   "execution_count": 15,
   "metadata": {},
   "outputs": [],
   "source": [
    "X_train, X_test, y_train, y_test = train_test_split(X, y, random_state=42, test_size=0.30)"
   ]
  },
  {
   "cell_type": "markdown",
   "metadata": {},
   "source": [
    "**Which activation function to use for the Hidden Layer?**\n",
    "\n",
    "When it comes to the activation function, there is no magic formula to choose the right one. It depends on the problem and the goal to achieve in a given layer. For example, I did choose the sigmoid activation function for the output layer because we have a multi-label classification problem. Relu's are a good first choice, as we saw in the evaluation, but let's find out how our model performs with other activation functions for the hidden layers.\n",
    "\n",
    "Let's start by setting a random seed so that the models I am going to compare are initialized with the same weights. This is necessary to get a reliable performance result. After that, I am going to create a function to create models that receive the activation function as input. Finally, I am going to iterate over different activation functions for the hidden layer, fit a model to each of them and create a data frame with the results."
   ]
  },
  {
   "cell_type": "code",
   "execution_count": 15,
   "metadata": {},
   "outputs": [],
   "source": [
    "np.random.seed(1)\n",
    "\n",
    "#function that returns a new model with the given activation function\n",
    "def get_model(activation_function):\n",
    "    model = Sequential()\n",
    "    model.add(Dense(64, activation=activation_function, input_shape=(n_predictors,)))\n",
    "    model.add(Dense(3, activation='sigmoid'))\n",
    "    \n",
    "    model.compile(optimizer='adam',\n",
    "                 loss='binary_crossentropy',\n",
    "                 metrics=['accuracy'])\n",
    "    \n",
    "   \n",
    "    return model\n",
    "\n",
    "activations = ['relu', 'sigmoid', 'tanh']\n",
    "act_results = {}\n",
    "\n",
    "for activation in activations:\n",
    "    model = get_model(activation)\n",
    "    hist = model.fit(X_train, y_train,\n",
    "                    epochs=20, verbose=0,\n",
    "                    validation_data=(X_test,y_test))\n",
    "    \n",
    "    #create dict. entrys with fit history for each\n",
    "    #activation function iteration w/ function name as key and history as value\n",
    "    act_results[activation] = hist\n",
    "        \n",
    "from keras.layers import LeakyReLU\n",
    "model = Sequential()\n",
    "model.add(Dense(64, input_shape=(20,)))\n",
    "model.add(LeakyReLU()) #outputs of first HL will be input to leakyrelu layer/activation \n",
    "model.add(Dense(3, activation='sigmoid')) #get's the output of the leakyrelu layer\n",
    "model.compile(optimizer='adam', loss='binary_crossentropy', metrics=['accuracy'])\n",
    "history = model.fit(X_train, y_train, \n",
    "                        epochs=20, verbose = 0,\n",
    "                    validation_data=(X_test, y_test))\n",
    "act_results['leaky_relu'] = history"
   ]
  },
  {
   "cell_type": "code",
   "execution_count": 16,
   "metadata": {},
   "outputs": [
    {
     "data": {
      "text/html": [
       "<div>\n",
       "<style scoped>\n",
       "    .dataframe tbody tr th:only-of-type {\n",
       "        vertical-align: middle;\n",
       "    }\n",
       "\n",
       "    .dataframe tbody tr th {\n",
       "        vertical-align: top;\n",
       "    }\n",
       "\n",
       "    .dataframe thead th {\n",
       "        text-align: right;\n",
       "    }\n",
       "</style>\n",
       "<table border=\"1\" class=\"dataframe\">\n",
       "  <thead>\n",
       "    <tr style=\"text-align: right;\">\n",
       "      <th></th>\n",
       "      <th>relu</th>\n",
       "      <th>sigmoid</th>\n",
       "      <th>tanh</th>\n",
       "      <th>leaky_relu</th>\n",
       "    </tr>\n",
       "  </thead>\n",
       "  <tbody>\n",
       "    <tr>\n",
       "      <th>0</th>\n",
       "      <td>0.745000</td>\n",
       "      <td>0.731667</td>\n",
       "      <td>0.782222</td>\n",
       "      <td>0.808333</td>\n",
       "    </tr>\n",
       "    <tr>\n",
       "      <th>1</th>\n",
       "      <td>0.822222</td>\n",
       "      <td>0.781111</td>\n",
       "      <td>0.806667</td>\n",
       "      <td>0.857778</td>\n",
       "    </tr>\n",
       "    <tr>\n",
       "      <th>2</th>\n",
       "      <td>0.850556</td>\n",
       "      <td>0.804444</td>\n",
       "      <td>0.827222</td>\n",
       "      <td>0.867778</td>\n",
       "    </tr>\n",
       "    <tr>\n",
       "      <th>3</th>\n",
       "      <td>0.858333</td>\n",
       "      <td>0.831111</td>\n",
       "      <td>0.853333</td>\n",
       "      <td>0.875556</td>\n",
       "    </tr>\n",
       "    <tr>\n",
       "      <th>4</th>\n",
       "      <td>0.863889</td>\n",
       "      <td>0.840000</td>\n",
       "      <td>0.862222</td>\n",
       "      <td>0.876111</td>\n",
       "    </tr>\n",
       "  </tbody>\n",
       "</table>\n",
       "</div>"
      ],
      "text/plain": [
       "       relu   sigmoid      tanh  leaky_relu\n",
       "0  0.745000  0.731667  0.782222    0.808333\n",
       "1  0.822222  0.781111  0.806667    0.857778\n",
       "2  0.850556  0.804444  0.827222    0.867778\n",
       "3  0.858333  0.831111  0.853333    0.875556\n",
       "4  0.863889  0.840000  0.862222    0.876111"
      ]
     },
     "execution_count": 16,
     "metadata": {},
     "output_type": "execute_result"
    }
   ],
   "source": [
    "#for each key/act.function, get the val_loss and acc history\n",
    "\n",
    "val_loss = {k:v.history['val_loss'] for k, v in act_results.items()}\n",
    "val_acc = {k:v.history['val_acc'] for k,v in act_results.items()}\n",
    "\n",
    "df_val_acc = pd.DataFrame(val_acc)\n",
    "df_val_loss = pd.DataFrame(val_loss)\n",
    "df_val_acc.head()"
   ]
  },
  {
   "cell_type": "markdown",
   "metadata": {},
   "source": [
    "Having created the data frame, I can now easily access and plot the training history. Let's plot two learning curves that show the development of the validation accuracy and validation loss for each activation function over all Epochs."
   ]
  },
  {
   "cell_type": "code",
   "execution_count": 17,
   "metadata": {},
   "outputs": [
    {
     "data": {
      "image/png": "[encoded data removed]",
      "text/plain": [
       "<Figure size 792x360 with 2 Axes>"
      ]
     },
     "metadata": {
      "needs_background": "light"
     },
     "output_type": "display_data"
    }
   ],
   "source": [
    "fig, (ax1,ax2) = plt.subplots(1,2, figsize=(11,5))\n",
    "_ = df_val_acc.plot(ax=ax1, legend=None)\n",
    "ax1.set_xlabel('Epoch')\n",
    "ax2.set_xlabel('Epoch')\n",
    "ax1.set_ylabel('validation accuracy')\n",
    "ax2.set_ylabel('validation loss')\n",
    "ax2.set_title('Validation Accuracy vs Epoch')\n",
    "ax1.set_title('Validation Loss vs Epoch')\n",
    "_2 = df_val_loss.plot(ax=ax2)\n",
    "_2 = plt.legend(bbox_to_anchor=(1.2, 0.5), loc='center', ncol=1) #moves legend outside of graphic\n",
    "plt.tight_layout()"
   ]
  },
  {
   "cell_type": "markdown",
   "metadata": {},
   "source": [
    "As you can see, the relu activation was a good choice, as it performs the best out of the 4 activation functions I tried for the given Epochs. It has the highest overall validation accuracy and therefore lowest validation loss (binary crossentropy), because the Error (y_true - y_pred) is the lowest."
   ]
  },
  {
   "cell_type": "code",
   "execution_count": 17,
   "metadata": {},
   "outputs": [
    {
     "name": "stdout",
     "output_type": "stream",
     "text": [
      "Current Testset-Accuracy:  0.8977777870496114\n"
     ]
    }
   ],
   "source": [
    "print('Current Testset-Accuracy: ', accuracy)"
   ]
  },
  {
   "cell_type": "markdown",
   "metadata": {},
   "source": [
    "**Does Batch Normalization improve the performance?**\n",
    "\n",
    "Batch Normalization can tackle the covariate shift problem. Covariate shift refers to the change in the distribution of the input values to a learning algorithm. For example, if during the training process, a weight becomes significantly larger than the others the output node will also be larger. This larger neuron output can cascade through the network and lead to the exploding gradients problem. On the flip side, the same can happen the other way around and lead to the vanishing gradients problem.\n",
    "\n",
    "The basic idea behind batch normalization is to limit covariate shift by normalizing the output of an activation function to allow the next layer to learn on a more stable distribution of inputs, and would thus accelerate the training of the network. \n",
    "\n",
    "But transforming the outputs of the activation to be strictly 0 mean and unit variance can limit the expressive power of the network. Therefore, in practice, batch normalization allows the network to learn parameters gamma and beta that can convert the mean and variance to any value that the network desires within the training process.\n",
    "\n",
    "                                       1. Normalize output from activation function\n",
    "\n",
    "$$ z = \\frac{x - m}{s} $$\n",
    "\n",
    "                                       2. Multiply normalized output with gamma\n",
    "                                \n",
    "$$ z * g $$\n",
    "\n",
    "                                       3. Add parameter beta to resuting product\n",
    "                                \n",
    "$$ (z*g) + b $$                "
   ]
  },
  {
   "cell_type": "code",
   "execution_count": 21,
   "metadata": {},
   "outputs": [],
   "source": [
    "from keras.layers import BatchNormalization\n",
    "\n",
    "batchnorm_model = Sequential()\n",
    "batchnorm_model.add(Dense(64, activation='relu', input_shape=(n_predictors,)))\n",
    "batchnorm_model.add(BatchNormalization())\n",
    "batchnorm_model.add(Dense(3, activation='sigmoid'))\n",
    "batchnorm_model.compile(optimizer='adam', loss='binary_crossentropy',metrics=['accuracy'])"
   ]
  },
  {
   "cell_type": "code",
   "execution_count": 22,
   "metadata": {},
   "outputs": [],
   "source": [
    "normal_model = Sequential()\n",
    "normal_model.add(Dense(64, activation='relu', input_shape=(n_predictors,)))\n",
    "normal_model.add(Dense(3, activation='sigmoid'))\n",
    "normal_model.compile(optimizer='adam', loss='binary_crossentropy',metrics=['accuracy'])"
   ]
  },
  {
   "cell_type": "code",
   "execution_count": 23,
   "metadata": {},
   "outputs": [
    {
     "data": {
      "image/png": "[encoded data removed]",
      "text/plain": [
       "<Figure size 432x288 with 1 Axes>"
      ]
     },
     "metadata": {
      "needs_background": "light"
     },
     "output_type": "display_data"
    }
   ],
   "source": [
    "def compare_histories_acc(h1,h2):\n",
    "  plt.plot(h1.history['acc'])\n",
    "  plt.plot(h1.history['val_acc'])\n",
    "  plt.plot(h2.history['acc'])\n",
    "  plt.plot(h2.history['val_acc'])\n",
    "  plt.title(\"Batch Normalization Effects\")\n",
    "  plt.xlabel('Epoch')\n",
    "  plt.ylabel('Accuracy')\n",
    "  plt.legend(['Train', 'Test', 'Train with Batch Normalization', 'Test with Batch Normalization'], loc='best')\n",
    "  plt.show()\n",
    "\n",
    "history1 = normal_model.fit(X_train, y_train, validation_data=(X_test, y_test), epochs=20, verbose=0)\n",
    "\n",
    "\n",
    "history2 = batchnorm_model.fit(X_train, y_train, validation_data=(X_test, y_test), epochs=20, verbose=0)\n",
    "\n",
    "#compare_acc_histories passing in both model histories\n",
    "compare_histories_acc(history1, history2)"
   ]
  },
  {
   "cell_type": "markdown",
   "metadata": {},
   "source": [
    "The graph shows no improvements to the validation accuracy with the given hyperparameters in the models when using batch normalization for the relu output.\n",
    "\n",
    "The plot suggests that we don't need to batch normalize the output of the hidden layer to increase the validation performance given our current architecture and hyperparameter settings. If this would be a deeper/complex model with more layers, I would still think about adding batch normalization to accelerate the training process (explanation above). "
   ]
  },
  {
   "cell_type": "markdown",
   "metadata": {},
   "source": [
    "### Final results: Interpreting Sigmoid Multi-Label Classification Output"
   ]
  },
  {
   "cell_type": "markdown",
   "metadata": {},
   "source": [
    "By predicting the probabilities with sigmoid between 0 and 1 for each parcel, we can filter the  output with a desired threshold (default 0.5) that indicates if the parcel needs more water for a given sensor-array observation. After doing that we can round the output of sigmoid to 0 or 1 depending on if we are above or below the threshold. \n",
    "\n",
    "<img src=\"Data/sigmoid.png\"/>"
   ]
  },
  {
   "cell_type": "code",
   "execution_count": 110,
   "metadata": {},
   "outputs": [
    {
     "name": "stdout",
     "output_type": "stream",
     "text": [
      "Sigmoid Output                     | True labels\n",
      "[0.9079424  0.66580707 0.315109  ] | [1 1 1]\n",
      "[0.18170887 0.05527231 0.04101357] | [0 0 0]\n",
      "[0.9565628  0.9870531  0.01071078] | [1 1 0]\n",
      "[0.9434552  0.98009574 0.00141847] | [1 1 0]\n",
      "[0.9993365  0.01380119 0.00558189] | [1 0 0]\n",
      "[0.95412564 0.4319313  0.17638192] | [0 0 0]\n",
      "[0.9548662  0.8033576  0.00419846] | [1 1 0]\n",
      "[0.7215707  0.9971832  0.02686337] | [1 1 0]\n",
      "[0.81680346 0.99484086 0.00107819] | [1 1 0]\n",
      "[0.99545705 0.9911068  0.9739265 ] | [1 1 1]\n",
      "\n",
      "\n",
      "Rounded sigmoid prediction | True labels\n",
      "                [1. 1. 0.] |  [1 1 1]\n",
      "                [0. 0. 0.] |  [0 0 0]\n",
      "                [1. 1. 0.] |  [1 1 0]\n",
      "                [1. 1. 0.] |  [1 1 0]\n",
      "                [1. 0. 0.] |  [1 0 0]\n",
      "                [1. 0. 0.] |  [0 0 0]\n",
      "                [1. 1. 0.] |  [1 1 0]\n",
      "                [1. 1. 0.] |  [1 1 0]\n",
      "                [1. 1. 0.] |  [1 1 0]\n",
      "                [1. 1. 1.] |  [1 1 1]\n",
      "\n",
      "\n",
      "10/10 [==============================] - 0s 87us/step\n",
      "Accuracy on sample:  0.9333333969116211\n"
     ]
    }
   ],
   "source": [
    "import numpy as np\n",
    "np.set_printoptions(suppress=True)\n",
    "\n",
    "small_y_test = y_test[:10].values #only 1 and 0 can be converted to int\n",
    "small_x_test = X_test[:10].values\n",
    "\n",
    "#predict on x_small_test\n",
    "preds = normal_model.predict(small_x_test)\n",
    "#print preds vs true values\n",
    "\n",
    "print(\"{:34} | {}\".format('Sigmoid Output','True labels')) \n",
    "for i,pred in enumerate(preds):\n",
    "    print(\"{} | {}\".format(pred,small_y_test[i]))\n",
    "    \n",
    "#rounds up => 5 and down <5\n",
    "preds_rounded = np.round(preds)\n",
    "\n",
    "print('\\n')\n",
    "print(\"{:25} | {}\".format('Rounded sigmoid prediction', 'True labels'))\n",
    "for i,pred_rounded in enumerate(preds_rounded):\n",
    "    print(\"                {} |  {}\".format(pred_rounded, small_y_test[i]))\n",
    "#    \n",
    "print('\\n')    \n",
    "print('Accuracy on sample: ',normal_model.evaluate(small_x_test, small_y_test)[1])    "
   ]
  },
  {
   "cell_type": "markdown",
   "metadata": {},
   "source": [
    "As you can see it is really easy to interpret the results of a multi-label classification problem when using the sigmoid activation function! The model also managed to get a 93% accuracy on the small test sample."
   ]
  },
  {
   "cell_type": "markdown",
   "metadata": {},
   "source": [
    "## Conclusion\n",
    "\n",
    "In this project, I managed to build an intelligent irrigation machine with around 90% Accuracy on unseen data. I used many different deep learning optimization methods on a simple neural network. It would have been better to optimize the different hyperparameters of the model simultaneously e.g. by transforming the model to a scikit- learn optimizer to utilize methods such as RandomSearchCV instead of doing every optimization process step by step. Different combinations of hyperparameters would lead to different performances. \n",
    "\n",
    "There are still a lot of things to test out on this model and I will keep updating it.\n",
    "\n",
    "For example, I will check out if the following steps will improve the performance:\n",
    "\n",
    "- Increase model capacity (Layers/Neurons)\n",
    "- Transform Keras model to scikit-learn estimator to utilize Random/Grid-SearchCV to try out different combinations hyperparameters of (e.g. sgd/adam optimizer with different learning rates, different architectures, batch sizes)\n",
    "- Long term: Would a CNN with real-time image classification perform better?"
   ]
  }
 ],
 "metadata": {
  "kernelspec": {
   "display_name": "Python 3",
   "language": "python",
   "name": "python3"
  },
  "language_info": {
   "codemirror_mode": {
    "name": "ipython",
    "version": 3
   },
   "file_extension": ".py",
   "mimetype": "text/x-python",
   "name": "python",
   "nbconvert_exporter": "python",
   "pygments_lexer": "ipython3",
   "version": "3.7.1"
  }
 },
 "nbformat": 4,
 "nbformat_minor": 2
}
